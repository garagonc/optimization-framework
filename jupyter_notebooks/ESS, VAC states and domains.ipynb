{
 "cells": [
  {
   "cell_type": "code",
   "execution_count": 1,
   "metadata": {},
   "outputs": [],
   "source": [
    "import numpy as np"
   ]
  },
  {
   "cell_type": "code",
   "execution_count": 2,
   "metadata": {},
   "outputs": [],
   "source": [
    "ess_soc_states = np.arange(0,110,10).tolist()\n",
    "vac_soc_states = np.arange(0,102.5,2.5).tolist()"
   ]
  },
  {
   "cell_type": "code",
   "execution_count": 5,
   "metadata": {},
   "outputs": [],
   "source": [
    "domain_range = 69.5187165775401"
   ]
  },
  {
   "cell_type": "code",
   "execution_count": 12,
   "metadata": {},
   "outputs": [
    {
     "data": {
      "text/plain": [
       "[0.0,\n",
       " 2.5,\n",
       " 5.0,\n",
       " 7.5,\n",
       " 10.0,\n",
       " 12.5,\n",
       " 15.0,\n",
       " 17.5,\n",
       " 20.0,\n",
       " 22.5,\n",
       " 25.0,\n",
       " 27.5,\n",
       " 30.0,\n",
       " 32.5,\n",
       " 35.0,\n",
       " 37.5,\n",
       " 40.0,\n",
       " 42.5,\n",
       " 45.0,\n",
       " 47.5,\n",
       " 50.0,\n",
       " 52.5,\n",
       " 55.0,\n",
       " 57.5,\n",
       " 60.0,\n",
       " 62.5,\n",
       " 65.0,\n",
       " 67.5,\n",
       " 70.0]"
      ]
     },
     "execution_count": 12,
     "metadata": {},
     "output_type": "execute_result"
    }
   ],
   "source": [
    "ess_steps = 10\n",
    "ess_domain_min = ess_soc_states[0] - domain_range / 2\n",
    "ess_domain_max = (domain_range / 2) + ess_steps\n",
    "\n",
    "\n",
    "\n",
    "vac_steps = 2.5\n",
    "vac_domain_min = vac_soc_states[0]\n",
    "vac_domain_max = domain_range + vac_steps\n",
    "\n",
    "ess_domain_min =  ess_steps * round(ess_domain_min/ess_steps)\n",
    "ess_domain_max =  ess_steps * round(ess_domain_max/ess_steps)\n",
    "vac_domain_min =  vac_steps * round(vac_domain_min/vac_steps)\n",
    "vac_domain_max =  vac_steps * round(vac_domain_max/vac_steps)\n",
    "\n",
    "ess_decision_domain = np.arange(ess_domain_min, ess_domain_max, ess_steps).tolist()\n",
    "vac_decision_domain = np.arange(vac_domain_min, vac_domain_max, vac_steps).tolist()\n",
    "vac_decision_domain"
   ]
  },
  {
   "cell_type": "code",
   "execution_count": 28,
   "metadata": {},
   "outputs": [],
   "source": [
    "p_pv = 0.0\n",
    "p_grid = 23.22704\n",
    "p_ess = -1.2337\n",
    "feasible_ev_charging_power = 23.227\n",
    "p_ev = {\n",
    "    \"0\": 10,\n",
    "    \"1\": 20,\n",
    "    \"2\": 30,\n",
    "}\n",
    "execution_time = 1553\n",
    "\n",
    "some_id = \"id\"\n",
    "\n",
    "results = {\n",
    "    \"id\" : some_id,\n",
    "    \"p_pv\": p_pv,\n",
    "    \"p_grid\": p_grid,\n",
    "    \"p_ess\": p_ess,\n",
    "    \"feasible_ev_charging_power\": feasible_ev_charging_power,\n",
    "    \"p_ev\": p_ev,\n",
    "    \"execution_time\": execution_time\n",
    "}\n",
    "\n",
    "time = datetime.datetime.now().strftime(\"%Y-%m-%d--%H:%M:%S\")\n",
    "filename = f\"log-{uuid.uuid1()}-{time}.json\"\n",
    "\n",
    "with open(filename, \"w\") as log_file:\n",
    "    json.dump(results, log_file, indent=4 )"
   ]
  },
  {
   "cell_type": "code",
   "execution_count": null,
   "metadata": {},
   "outputs": [],
   "source": []
  },
  {
   "cell_type": "code",
   "execution_count": null,
   "metadata": {},
   "outputs": [],
   "source": []
  }
 ],
 "metadata": {
  "kernelspec": {
   "display_name": "Python 3",
   "language": "python",
   "name": "python3"
  },
  "language_info": {
   "codemirror_mode": {
    "name": "ipython",
    "version": 3
   },
   "file_extension": ".py",
   "mimetype": "text/x-python",
   "name": "python",
   "nbconvert_exporter": "python",
   "pygments_lexer": "ipython3",
   "version": "3.6.8"
  },
  "varInspector": {
   "cols": {
    "lenName": 16,
    "lenType": 16,
    "lenVar": 40
   },
   "kernels_config": {
    "python": {
     "delete_cmd_postfix": "",
     "delete_cmd_prefix": "del ",
     "library": "var_list.py",
     "varRefreshCmd": "print(var_dic_list())"
    },
    "r": {
     "delete_cmd_postfix": ") ",
     "delete_cmd_prefix": "rm(",
     "library": "var_list.r",
     "varRefreshCmd": "cat(var_dic_list()) "
    }
   },
   "types_to_exclude": [
    "module",
    "function",
    "builtin_function_or_method",
    "instance",
    "_Feature"
   ],
   "window_display": false
  }
 },
 "nbformat": 4,
 "nbformat_minor": 2
}
