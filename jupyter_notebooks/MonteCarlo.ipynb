{
  "cells": [
    {
      "cell_type": "code",
      "execution_count": 1,
      "metadata": {
        "pycharm": {}
      },
      "outputs": [],
      "source": [
        "import os\n",
        "os.chdir(\"..\")"
      ]
    },
    {
      "cell_type": "code",
      "execution_count": 2,
      "metadata": {
        "pycharm": {}
      },
      "outputs": [],
      "source": [
        "from profev.MonteCarloSimulator import simulate"
      ]
    },
    {
      "cell_type": "code",
      "execution_count": 3,
      "metadata": {
        "pycharm": {}
      },
      "outputs": [],
      "source": [
        "            \n",
        "arr_mu, arr_sigma \u003d 18.76,1.30\n",
        "dep_mu, dep_sigma \u003d 7.32, 0.78\n",
        "repetition \u003d 100000\n",
        "maxCars\u003d7\n",
        "\n",
        "from functools import partial\n",
        "\n",
        "simulator \u003d partial(simulate, repetition\u003drepetition, unplugged_mean\u003ddep_mu, unplugged_std\u003ddep_sigma,plugged_mean\u003darr_mu, plugged_std\u003darr_sigma,max_number_of_cars\u003dmaxCars)"
      ]
    },
    {
      "cell_type": "code",
      "execution_count": 4,
      "metadata": {
        "pycharm": {}
      },
      "outputs": [
        {
          "data": {
            "text/plain": [
              "{0: {0: 0, 1: 0, 2: 0, 3: 0, 4: 0, 5: 0, 6: 0, 7: 0.9999999999980838},\n",
              " 1: {0: 0, 1: 0, 2: 0, 3: 0, 4: 0, 5: 0, 6: 0, 7: 0.9999999999980838},\n",
              " 2: {0: 0, 1: 0, 2: 0, 3: 0, 4: 0, 5: 0, 6: 0, 7: 0.9999999999980838},\n",
              " 3: {0: 0, 1: 0, 2: 0, 3: 0, 4: 0, 5: 0, 6: 0, 7: 0.9999999999980838},\n",
              " 4: {0: 0,\n",
              "  1: 0,\n",
              "  2: 0,\n",
              "  3: 0,\n",
              "  4: 0,\n",
              "  5: 0,\n",
              "  6: 7.000000000000001e-05,\n",
              "  7: 0.9999299999980841},\n",
              " 5: {0: 0,\n",
              "  1: 0,\n",
              "  2: 0,\n",
              "  3: 0,\n",
              "  4: 0,\n",
              "  5: 6e-05,\n",
              "  6: 0.010789999999999729,\n",
              "  7: 0.9891499999981331},\n",
              " 6: {0: 0,\n",
              "  1: 0,\n",
              "  2: 0,\n",
              "  3: 8e-05,\n",
              "  4: 0.002590000000000006,\n",
              "  5: 0.03442999999999987,\n",
              "  6: 0.2411600000001004,\n",
              "  7: 0.7217399999993501},\n",
              " 7: {0: 0.000620000000000001,\n",
              "  1: 0.00707999999999988,\n",
              "  2: 0.04265000000000239,\n",
              "  3: 0.1343699999999936,\n",
              "  4: 0.26171000000012096,\n",
              "  5: 0.30408000000016333,\n",
              "  6: 0.1955500000000548,\n",
              "  7: 0.053940000000005844},\n",
              " 8: {0: 0.2251700000000844,\n",
              "  1: 0.3739700000002332,\n",
              "  2: 0.2665800000001258,\n",
              "  3: 0.10665999999999135,\n",
              "  4: 0.02425999999999918,\n",
              "  5: 0.0031200000000000073,\n",
              "  6: 0.00024,\n",
              "  7: 0},\n",
              " 9: {0: 0.8956699999985586,\n",
              "  1: 0.09941999999999415,\n",
              "  2: 0.004809999999999972,\n",
              "  3: 0.0001,\n",
              "  4: 0,\n",
              "  5: 0,\n",
              "  6: 0,\n",
              "  7: 0},\n",
              " 10: {0: 0.997959999998093,\n",
              "  1: 0.0020400000000000045,\n",
              "  2: 0,\n",
              "  3: 0,\n",
              "  4: 0,\n",
              "  5: 0,\n",
              "  6: 0,\n",
              "  7: 0},\n",
              " 11: {0: 0.9999899999980838, 1: 1e-05, 2: 0, 3: 0, 4: 0, 5: 0, 6: 0, 7: 0},\n",
              " 12: {0: 0.9999999999980838, 1: 0, 2: 0, 3: 0, 4: 0, 5: 0, 6: 0, 7: 0},\n",
              " 13: {0: 0.9999799999980838, 1: 2e-05, 2: 0, 3: 0, 4: 0, 5: 0, 6: 0, 7: 0},\n",
              " 14: {0: 0.9991699999980875,\n",
              "  1: 0.0008300000000000015,\n",
              "  2: 0,\n",
              "  3: 0,\n",
              "  4: 0,\n",
              "  5: 0,\n",
              "  6: 0,\n",
              "  7: 0},\n",
              " 15: {0: 0.9858399999981482,\n",
              "  1: 0.014089999999999594,\n",
              "  2: 7.000000000000001e-05,\n",
              "  3: 0,\n",
              "  4: 0,\n",
              "  5: 0,\n",
              "  6: 0,\n",
              "  7: 0},\n",
              " 16: {0: 0.8834499999986142,\n",
              "  1: 0.11067999999998979,\n",
              "  2: 0.005669999999999937,\n",
              "  3: 0.0002,\n",
              "  4: 0,\n",
              "  5: 0,\n",
              "  6: 0,\n",
              "  7: 0},\n",
              " 17: {0: 0.5138300000002963,\n",
              "  1: 0.36038000000021964,\n",
              "  2: 0.10734999999999108,\n",
              "  3: 0.016839999999999484,\n",
              "  4: 0.0015400000000000034,\n",
              "  5: 5e-05,\n",
              "  6: 1e-05,\n",
              "  7: 0},\n",
              " 18: {0: 0.09714999999999503,\n",
              "  1: 0.26689000000012614,\n",
              "  2: 0.3160600000001753,\n",
              "  3: 0.21341000000007265,\n",
              "  4: 0.08432,\n",
              "  5: 0.01916999999999939,\n",
              "  6: 0.0028700000000000067,\n",
              "  7: 0.00013000000000000002},\n",
              " 19: {0: 0.0024000000000000054,\n",
              "  1: 0.022509999999999253,\n",
              "  2: 0.09366999999999638,\n",
              "  3: 0.21484000000007408,\n",
              "  4: 0.29162000000015087,\n",
              "  5: 0.24321000000010246,\n",
              "  6: 0.11016999999998998,\n",
              "  7: 0.02157999999999929},\n",
              " 20: {0: 0,\n",
              "  1: 6e-05,\n",
              "  2: 0.0018800000000000043,\n",
              "  3: 0.01540999999999954,\n",
              "  4: 0.07761000000000261,\n",
              "  5: 0.23549000000009473,\n",
              "  6: 0.3919400000002512,\n",
              "  7: 0.27761000000013686},\n",
              " 21: {0: 0,\n",
              "  1: 0,\n",
              "  2: 0,\n",
              "  3: 9e-05,\n",
              "  4: 0.0019100000000000044,\n",
              "  5: 0.02800999999999903,\n",
              "  6: 0.22799000000008723,\n",
              "  7: 0.7419999999992579},\n",
              " 22: {0: 0,\n",
              "  1: 0,\n",
              "  2: 0,\n",
              "  3: 0,\n",
              "  4: 0,\n",
              "  5: 0.0008000000000000014,\n",
              "  6: 0.04063000000000177,\n",
              "  7: 0.9585699999982723},\n",
              " 23: {0: 0,\n",
              "  1: 0,\n",
              "  2: 0,\n",
              "  3: 0,\n",
              "  4: 0,\n",
              "  5: 1e-05,\n",
              "  6: 0.0035300000000000084,\n",
              "  7: 0.9964599999980999}}"
            ]
          },
          "execution_count": 4,
          "metadata": {},
          "output_type": "execute_result"
        }
      ],
      "source": "behaviorModel\u003dsimulator(3600, 24)\nbehaviorModel"
    },
    {
      "cell_type": "code",
      "execution_count": 2,
      "outputs": [],
      "source": "import numpy as np",
      "metadata": {
        "pycharm": {
          "metadata": false,
          "name": "#%%\n",
          "is_executing": false
        }
      }
    },
    {
      "cell_type": "code",
      "execution_count": 3,
      "outputs": [
        {
          "data": {
            "text/plain": "array([ 0. ,  2.5,  5. ,  7.5, 10. , 12.5, 15. , 17.5])"
          },
          "metadata": {},
          "output_type": "execute_result",
          "execution_count": 3
        }
      ],
      "source": "x \u003d np.arange(0, 20, 2.5)\nx",
      "metadata": {
        "pycharm": {
          "metadata": false,
          "name": "#%%\n",
          "is_executing": false
        }
      }
    },
    {
      "cell_type": "code",
      "execution_count": 5,
      "outputs": [
        {
          "data": {
            "text/plain": "[0.0, 2.5, 5.0, 7.5, 10.0, 12.5, 15.0, 17.5]"
          },
          "metadata": {},
          "output_type": "execute_result",
          "execution_count": 5
        }
      ],
      "source": "y \u003d x.tolist()\ny",
      "metadata": {
        "pycharm": {
          "metadata": false,
          "name": "#%%\n",
          "is_executing": false
        }
      }
    },
    {
      "cell_type": "code",
      "execution_count": null,
      "outputs": [],
      "source": "\n",
      "metadata": {
        "pycharm": {
          "metadata": false,
          "name": "#%%\n"
        }
      }
    }
  ],
  "metadata": {
    "kernelspec": {
      "display_name": "Python 3",
      "language": "python",
      "name": "python3"
    },
    "language_info": {
      "codemirror_mode": {
        "name": "ipython",
        "version": 3
      },
      "file_extension": ".py",
      "mimetype": "text/x-python",
      "name": "python",
      "nbconvert_exporter": "python",
      "pygments_lexer": "ipython3",
      "version": "3.6.8"
    },
    "varInspector": {
      "cols": {
        "lenName": 16,
        "lenType": 16,
        "lenVar": 40
      },
      "kernels_config": {
        "python": {
          "delete_cmd_postfix": "",
          "delete_cmd_prefix": "del ",
          "library": "var_list.py",
          "varRefreshCmd": "print(var_dic_list())"
        },
        "r": {
          "delete_cmd_postfix": ") ",
          "delete_cmd_prefix": "rm(",
          "library": "var_list.r",
          "varRefreshCmd": "cat(var_dic_list()) "
        }
      },
      "types_to_exclude": [
        "module",
        "function",
        "builtin_function_or_method",
        "instance",
        "_Feature"
      ],
      "window_display": false
    }
  },
  "nbformat": 4,
  "nbformat_minor": 2
}