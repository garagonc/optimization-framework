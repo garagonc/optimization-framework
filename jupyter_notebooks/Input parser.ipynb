{
 "cells": [
  {
   "cell_type": "code",
   "execution_count": 1,
   "metadata": {},
   "outputs": [],
   "source": [
    "import json\n",
    "import os\n",
    "os.chdir(\"..\")"
   ]
  },
  {
   "cell_type": "code",
   "execution_count": 2,
   "metadata": {},
   "outputs": [],
   "source": [
    "import pprint"
   ]
  },
  {
   "cell_type": "code",
   "execution_count": 3,
   "metadata": {},
   "outputs": [],
   "source": [
    "from IO.constants import Constants\n",
    "from profev.Car import Car\n",
    "from profev.ChargingStation import ChargingStation\n",
    "from profev.CarPark import CarPark"
   ]
  },
  {
   "cell_type": "code",
   "execution_count": 4,
   "metadata": {
    "code_folding": []
   },
   "outputs": [],
   "source": [
    "# Inputs\n",
    "\n",
    "path = os.path.join(os.getcwd(), \"utils\", \"ae5dc1e61acd\", \"Input.registry.file\")\n",
    "with open(path, \"r\") as file:\n",
    "    input_config_file = json.loads(file.read())\n",
    "\n",
    "input_config_mqtt = {}\n",
    "model_name = \"CarParkModel\""
   ]
  },
  {
   "cell_type": "markdown",
   "metadata": {},
   "source": [
    "### Helper functions"
   ]
  },
  {
   "cell_type": "code",
   "execution_count": 5,
   "metadata": {},
   "outputs": [],
   "source": [
    "\n",
    "def generate_charger_classes(chargers):\n",
    "    chargers_list = []\n",
    "    for charger_name, charger_detail in chargers.items():\n",
    "        max_charging_power_kw = charger_detail.get(\"Max_Charging_Power_kW\", None)\n",
    "        hosted_car = charger_detail.get(\"Hosted_Car\", None)\n",
    "        soc = charger_detail.get(\"SoC\", None)\n",
    "        assert max_charging_power_kw, f\"Incorrect input: Max_Charging_Power_kW missing for charger: {charger_name}\"\n",
    "        chargers_list.append(ChargingStation(max_charging_power_kw, hosted_car, soc))\n",
    "    return chargers_list\n",
    "\n",
    "\n",
    "def generate_car_classes(cars):\n",
    "    cars_list = []\n",
    "    for car_name, car_detail in cars.items():\n",
    "        battery_capacity = car_detail.get(\"Battery_Capacity_kWh\", None)\n",
    "        assert battery_capacity, f\"Incorrect input: Battery_Capacity_kWh missing for car: {car_name}\"\n",
    "        cars_list.append(Car(car_name, battery_capacity))\n",
    "    return cars_list"
   ]
  },
  {
   "cell_type": "markdown",
   "metadata": {},
   "source": [
    "## Input parser"
   ]
  },
  {
   "cell_type": "code",
   "execution_count": 27,
   "metadata": {
    "code_folding": [
     45.0,
     61.0,
     69.0
    ]
   },
   "outputs": [
    {
     "name": "stdout",
     "output_type": "stream",
     "text": [
      "[0.0, 2.5, 5.0, 7.5, 10.0, 12.5, 15.0, 17.5, 20.0, 22.5, 25.0, 27.5, 30.0, 32.5, 35.0, 37.5, 40.0, 42.5, 45.0, 47.5, 50.0, 52.5, 55.0, 57.5, 60.0, 62.5, 65.0, 67.5, 70.0, 72.5, 75.0, 77.5, 80.0, 82.5, 85.0, 87.5, 90.0, 92.5, 95.0, 97.5, 100.0]\n"
     ]
    }
   ],
   "source": [
    "from functools import partial\n",
    "from profev.MonteCarloSimulator import simulate\n",
    "\n",
    "class InputConfigParser:\n",
    "    \n",
    "    def __init__(self, input_config_file, input_config_mqtt, model_name):\n",
    "        self.model_name = model_name\n",
    "        self.model_variables = {'Feasible_ESS_Decisions': {'type': 'Set', 'indexing': 'None'}, 'Feasible_VAC_Decisions': {'type': 'Set', 'indexing': 'None'}, 'Value_Index': {'type': 'Set', 'indexing': 'None'}, 'Value': {'type': 'Param', 'indexing': 'index'}, 'P_PV_Forecast': {'type': 'Param', 'indexing': 'None'}, 'Initial_ESS_SoC': {'type': 'Param', 'indexing': 'index'}, 'Initial_VAC_SoC': {'type': 'Param', 'indexing': 'index'}, 'Number_of_Parked_Cars': {'type': 'Param', 'indexing': 'None'}, 'Unit_Consumption_Assumption': {'type': 'Param', 'indexing': 'None'}, 'Unit_Drop_Penalty': {'type': 'Param', 'indexing': 'None'}, 'ESS_Capacity': {'type': 'Param', 'indexing': 'None'}, 'VAC_Capacity': {'type': 'Param', 'indexing': 'None'}, 'Behavior_Model_Index': {'type': 'Set', 'indexing': 'None'}, 'Behavior_Model': {'type': 'Param', 'indexing': 'None'}, 'dT': {'type': 'Param', 'indexing': 'None'}, 'Decision': {'type': 'Var', 'indexing': 'index'}, 'P_ESS': {'type': 'Var', 'indexing': 'None'}, 'P_VAC': {'type': 'Var', 'indexing': 'None'}, 'P_PV': {'type': 'Var', 'indexing': 'index'}, 'P_GRID': {'type': 'Var', 'indexing': 'None'}}\n",
    "        self.input_config_file = input_config_file\n",
    "        self.input_config_mqtt = input_config_mqtt\n",
    "        self.mqtt_params = {}\n",
    "        self.generic_names = []\n",
    "        self.generic_file_names = []\n",
    "        \n",
    "        self.defined_prediction_names = []\n",
    "        self.defined_non_prediction_names = [\"P_PV\", \"P_PV_Forecast\"] #New\n",
    "        self.defined_external_names = [\"SoC_Value\"]\n",
    "        self.prediction_names = []\n",
    "        self.non_prediction_names = []\n",
    "        self.external_names = []\n",
    "        \n",
    "        # Added\n",
    "        self.car_park = None\n",
    "        self.simulator = None\n",
    "        \n",
    "        self.optimization_params = self.extract_optimization_values()\n",
    "        \n",
    "    def add_name_to_list(self, key):\n",
    "        if key in self.defined_prediction_names:\n",
    "            self.prediction_names.append(key)\n",
    "        elif key in self.defined_non_prediction_names:\n",
    "            self.non_prediction_names.append(key)\n",
    "        elif key in self.defined_external_names:\n",
    "            self.external_names.append(key)\n",
    "        else:\n",
    "            self.generic_names.append(key)\n",
    "\n",
    "    def generate_car_park(self, details):\n",
    "        chargers = details.get(\"Charging_Station\", None)\n",
    "        cars = details.get(\"Cars\", None)\n",
    "        assert chargers, \"Incorrect input: Charging_Station missing in CarPark\"\n",
    "        assert cars, \"Incorrect input: Cars missing in CarPark\"\n",
    "        chargers = dict(chargers)\n",
    "        cars = dict(cars)\n",
    "        chargers_list = generate_charger_classes(chargers)\n",
    "        cars_list = generate_car_classes(cars)\n",
    "        self.car_park = CarPark(chargers_list, cars_list)\n",
    "\n",
    "        return self.car_park.number_of_cars, self.car_park.vac_capacity\n",
    "    \n",
    "    def generate_behaviour_model(self, plugged_time, unplugged_time, simulation_repetition):\n",
    "        plugged_time_mean = plugged_time.get(\"mean\", None)\n",
    "        plugged_time_std = plugged_time.get(\"std\", None)\n",
    "        \n",
    "        assert plugged_time_mean, \"mean value missing in Plugged_Time\"\n",
    "        assert plugged_time_std, \"std value missing in Plugged_Time\"\n",
    "        \n",
    "        unplugged_time_mean = plugged_time.get(\"mean\", None)\n",
    "        unplugged_time_std = plugged_time.get(\"std\", None)\n",
    "        \n",
    "        assert unplugged_time_mean, \"mean value missing in Unlugged_Time\"\n",
    "        assert unplugged_time_std, \"std value missing in Unlugged_Time\"\n",
    "        \n",
    "        self.simulator = partial(simulate,\n",
    "                                 repetition=simulation_repetition,\n",
    "                                 unplugged_mean=unplugged_time_mean, unplugged_std=unplugged_time_std,\n",
    "                                 plugged_mean=plugged_time_mean, plugged_std=plugged_time_std)\n",
    "\n",
    "    def generate_states(self, states, state_name):\n",
    "        min_value = states.get(\"Min\", None)\n",
    "        max_value = states.get(\"Max\", None)\n",
    "        steps = states.get(\"Steps\", None)\n",
    "        \n",
    "        assert min_value != None, f\"Min value missing in {state_name}\"\n",
    "        assert max_value, f\"Max value missing in {state_name}\"\n",
    "        assert steps, f\"Steps value missing in {state_name}\"\n",
    "        \n",
    "        min_value = int(min_value)\n",
    "        max_value = int(max_value)\n",
    "        \n",
    "        return min_value, max_value, steps, list(np.arange(min_value,max_value+steps,steps))\n",
    "        \n",
    "    \n",
    "    def extract_optimization_values(self):\n",
    "        data = {}\n",
    "        for input_config in [self.input_config_file, self.input_config_mqtt]:\n",
    "            for k, v in input_config.items():\n",
    "                if isinstance(v, dict):\n",
    "                    for k1, v1 in v.items():\n",
    "                        if k1 == Constants.meta:\n",
    "                            for k2, v2 in v1.items():\n",
    "                                try:\n",
    "                                    v2 = float(v2)\n",
    "                                except ValueError:\n",
    "                                    pass\n",
    "                                if isinstance(v2, float) and v2.is_integer():\n",
    "                                    v2 = int(v2)\n",
    "                                if k2 in self.model_variables.keys():\n",
    "                                    indexing = self.model_variables[k2][\"indexing\"]\n",
    "                                    if indexing == \"index\":\n",
    "                                        data[k2] = {int(0): v2}\n",
    "                                    elif indexing == \"None\":\n",
    "                                        data[k2] = {None: v2}\n",
    "                                else:\n",
    "                                    data[k2] = {None: v2}\n",
    "                        elif k1 == Constants.SoC_Value and isinstance(v1, int):\n",
    "                            indexing = self.model_variables[Constants.SoC_Value][\"indexing\"]\n",
    "                            if indexing == \"index\":\n",
    "                                data[Constants.SoC_Value] = {int(0): float(v1 / 100)}\n",
    "                            elif indexing == \"None\":\n",
    "                                data[Constants.SoC_Value] = {None: float(v1 / 100)}\n",
    "                        elif isinstance(v1, list):\n",
    "                            self.add_name_to_list(k1)\n",
    "                        elif k == \"generic\" and not isinstance(v1, dict):\n",
    "                            logger.debug(\"Generic single value\")\n",
    "                            try:\n",
    "                                v1 = float(v1)\n",
    "                            except ValueError:\n",
    "                                pass\n",
    "                            if isinstance(v1, float) and v1.is_integer():\n",
    "                                v1 = int(v1)\n",
    "                            data[k1] = {None: v1}\n",
    "                        elif k == \"PROFEV\":\n",
    "                            if isinstance(v1, dict):\n",
    "                                if k1 == Constants.CarPark:\n",
    "                                    number_of_cars, vac_capacity = self.generate_car_park(v1)\n",
    "\n",
    "                                    data[\"Number_of_Parked_Cars\"] = {None: number_of_cars}\n",
    "                                    data[\"VAC_Capacity\"] = {None: vac_capacity}\n",
    "\n",
    "                                if k1 == Constants.Uncertainty:\n",
    "                                    plugged_time = v1.get(\"Plugged_Time\", None)\n",
    "                                    unplugged_time = v1.get(\"Unplugged_Time\", None)\n",
    "                                    simulation_repetition = v1.get(\"simulation_repetition\", None)\n",
    "                                    \n",
    "                                    assert plugged_time, \"Plugged_Time is missing in Uncertainty\"\n",
    "                                    assert unplugged_time, \"Unplugged_Time is missing in Uncertainty\"\n",
    "                                    assert simulation_repetition, \"simulation_repetition is missing in Uncertainty\"\n",
    "                                    \n",
    "                                    self.generate_behaviour_model(plugged_time, unplugged_time, simulation_repetition)\n",
    "                                    \n",
    "                                    ess_states = v1.get(\"ESS_States\", None)\n",
    "                                    vac_states = v1.get(\"VAC_States\", None)\n",
    "                                    \n",
    "                                    assert ess_states, \"ESS_States is missing in Uncertainty\"\n",
    "                                    assert vac_states, \"VAC_States is missing in Uncertainty\"\n",
    "                                    \n",
    "                                    _,_,ess_steps,ess_soc_states = self.generate_states(ess_states, \"ESS_States\")\n",
    "                                    _,_,vac_steps,vac_soc_states = self.generate_states(vac_states, \"VAC_States\")\n",
    "                                    \n",
    "                                    self.ess_steps = ess_steps\n",
    "                                    self.vac_steps = vac_steps\n",
    "                                    self.ess_soc_states = ess_soc_states\n",
    "                                    self.vac_soc_states = vac_soc_states\n",
    "                                    \n",
    "                                    \n",
    "                                    data[\"Value\"] = \"null\"\n",
    "                                    data[\"Initial_ESS_SoC\"] = \"null\"\n",
    "                                    data[\"Initial_VAC_SoC\"] = \"null\"\n",
    "                                    data[\"Behavior_Model\"] = \"null\"\n",
    "                            else:\n",
    "                                try:\n",
    "                                    v1 = float(v1)\n",
    "                                except ValueError:\n",
    "                                    pass\n",
    "                                if isinstance(v1, float) and v1.is_integer():\n",
    "                                    v1 = int(v1)\n",
    "                                data[k1] = {None: v1}\n",
    "        #         pprint.pprint(data, indent=4)\n",
    "        return data\n",
    "    \n",
    "icp = InputConfigParser(input_config_file, input_config_mqtt, model_name)"
   ]
  },
  {
   "cell_type": "code",
   "execution_count": null,
   "metadata": {},
   "outputs": [],
   "source": []
  }
 ],
 "metadata": {
  "kernelspec": {
   "display_name": "Python 3",
   "language": "python",
   "name": "python3"
  },
  "language_info": {
   "codemirror_mode": {
    "name": "ipython",
    "version": 3
   },
   "file_extension": ".py",
   "mimetype": "text/x-python",
   "name": "python",
   "nbconvert_exporter": "python",
   "pygments_lexer": "ipython3",
   "version": "3.6.8"
  },
  "varInspector": {
   "cols": {
    "lenName": 16.0,
    "lenType": 16.0,
    "lenVar": 40.0
   },
   "kernels_config": {
    "python": {
     "delete_cmd_postfix": "",
     "delete_cmd_prefix": "del ",
     "library": "var_list.py",
     "varRefreshCmd": "print(var_dic_list())"
    },
    "r": {
     "delete_cmd_postfix": ") ",
     "delete_cmd_prefix": "rm(",
     "library": "var_list.r",
     "varRefreshCmd": "cat(var_dic_list()) "
    }
   },
   "types_to_exclude": [
    "module",
    "function",
    "builtin_function_or_method",
    "instance",
    "_Feature"
   ],
   "window_display": false
  }
 },
 "nbformat": 4,
 "nbformat_minor": 2
}
