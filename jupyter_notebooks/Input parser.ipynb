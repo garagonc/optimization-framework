{
 "cells": [
  {
   "cell_type": "code",
   "execution_count": 1,
   "metadata": {},
   "outputs": [],
   "source": [
    "import json\n",
    "import os\n",
    "os.chdir(\"..\")"
   ]
  },
  {
   "cell_type": "code",
   "execution_count": 2,
   "metadata": {},
   "outputs": [],
   "source": [
    "import pprint"
   ]
  },
  {
   "cell_type": "code",
   "execution_count": 3,
   "metadata": {},
   "outputs": [],
   "source": [
    "from IO.constants import Constants"
   ]
  },
  {
   "cell_type": "code",
   "execution_count": 4,
   "metadata": {
    "code_folding": []
   },
   "outputs": [],
   "source": [
    "# Inputs\n",
    "\n",
    "path = os.path.join(os.getcwd(), \"utils\", \"799988a6cbeb\", \"Input.registry.file\")\n",
    "with open(path, \"r\") as file:\n",
    "    input_config_file = json.loads(file.read())\n",
    "\n",
    "input_config_mqtt = {}\n",
    "model_name = \"CarParkModel\""
   ]
  },
  {
   "cell_type": "markdown",
   "metadata": {},
   "source": [
    "## CarPark"
   ]
  },
  {
   "cell_type": "code",
   "execution_count": 39,
   "metadata": {},
   "outputs": [],
   "source": [
    "class CarPark:\n",
    "\n",
    "    def __init__(self, chargers_list, cars_list):\n",
    "\n",
    "        self.cars = {}\n",
    "        self.chargers = {charger_index: charger for charger_index, charger in enumerate(chargers_list)}\n",
    "        self.vac_capacity = 0\n",
    "\n",
    "        for car_index, car in enumerate(cars_list):\n",
    "            self.cars[car_index] = car\n",
    "            self.vac_capacity += car.batteryCapacity\n",
    "\n",
    "        self.number_of_cars = len(self.cars)\n",
    "\n",
    "    def max_charge_power_calculator(self, charging_period):\n",
    "        \"\"\"\n",
    "        Returns a dictionary \"connections\"\n",
    "            keys: charger labels\n",
    "            values: max charging power input to the connected car\n",
    "        \"\"\"\n",
    "\n",
    "        connections = {}\n",
    "        for key, charger in self.chargers.items():\n",
    "            if charger.hosted_car:\n",
    "                car = charger.hosted_car\n",
    "                battery_depth_of_discharge = (1 - charger.soc) * car.batteryCapacity  # max_charging_power_kw-sec\n",
    "\n",
    "                charger_limit = charger.kW\n",
    "                car_limit = battery_depth_of_discharge / charging_period\n",
    "\n",
    "                connections[key] = min(charger_limit, car_limit)\n",
    "\n",
    "        return connections\n"
   ]
  },
  {
   "cell_type": "markdown",
   "metadata": {},
   "source": [
    "## Car"
   ]
  },
  {
   "cell_type": "code",
   "execution_count": 23,
   "metadata": {
    "code_folding": []
   },
   "outputs": [],
   "source": [
    "class Car:\n",
    "\n",
    "    def __init__(self, car_name, battery_capacity):\n",
    "        self.car_name = car_name\n",
    "        self.batteryCapacity = battery_capacity * 3600\n",
    "\n",
    "    def charge(self, soc, charge_period, charge_power):\n",
    "        return soc + charge_power * charge_period / self.batteryCapacity\n"
   ]
  },
  {
   "cell_type": "markdown",
   "metadata": {},
   "source": [
    "## ChargingStation"
   ]
  },
  {
   "cell_type": "code",
   "execution_count": 7,
   "metadata": {
    "code_folding": []
   },
   "outputs": [],
   "source": [
    "class ChargingStation:\n",
    "\n",
    "    def __init__(self, max_charging_power_kw, hosted_car=None, soc=None):\n",
    "        self.max_charging_power_kw = max_charging_power_kw\n",
    "\n",
    "        if hosted_car:\n",
    "            self.hosted_car = hosted_car\n",
    "            self.plugged = True\n",
    "            self.soc = soc\n",
    "        else:\n",
    "            self.plugged = False\n",
    "\n",
    "    def plug(self, car):\n",
    "        self.hosted_car = car\n",
    "        self.plugged = True\n",
    "\n",
    "    def unplug(self):\n",
    "        self.hosted_car = None\n",
    "        self.plugged = False\n",
    "\n",
    "    def charge(self, charge_period, charge_power):\n",
    "\n",
    "        if self.plugged == 1:\n",
    "            self.soc = self.hosted_car.charge(self.soc, charge_period, charge_power)\n",
    "        else:\n",
    "            print(\"Charge decision cannot be implemented\")\n"
   ]
  },
  {
   "cell_type": "markdown",
   "metadata": {},
   "source": [
    "## Input parser"
   ]
  },
  {
   "cell_type": "code",
   "execution_count": 41,
   "metadata": {
    "code_folding": [
     45,
     61,
     69
    ]
   },
   "outputs": [
    {
     "name": "stdout",
     "output_type": "stream",
     "text": [
      "{'Plugged_Time': {'mu': 18.76, 'sigma': 1.3}, 'Unplugged_Time': {'mu': 7.32, 'sigma': 0.78}, 'ESS_States': {'Min': 0, 'Max': 100, 'Steps': 10}, 'VAC_States': {'Min': 0, 'Max': 100, 'Steps': 2.5}}\n",
      "{   'ESS_Capacity': {None: 2430},\n",
      "    'ESS_Max_Charge_Power': {None: 0.62},\n",
      "    'ESS_Max_Discharge_Power': {None: 0.62},\n",
      "    'ESS_Max_SoC': {None: 1},\n",
      "    'ESS_Min_SoC': {None: 0.2},\n",
      "    'Max_Voltage_Drop': {None: 1.2315135},\n",
      "    'Min_Voltage_Drop': {None: 1.0246457},\n",
      "    'Number_of_Parked_Cars': {None: 7},\n",
      "    'PV_Inv_Max_Power': {None: 3501},\n",
      "    'P_Grid_Max_Export_Power': {None: 10},\n",
      "    'Q_Grid_Max_Export_Power': {None: 10},\n",
      "    'Unit_Consumption_Assumption': {None: 2.5},\n",
      "    'Unit_Drop_Penalty': {None: 1},\n",
      "    'VAC_Capacity': {None: 756000},\n",
      "    'pf_Load': {None: 1}}\n"
     ]
    },
    {
     "data": {
      "text/plain": [
       "<__main__.InputConfigParser at 0x7fd2e5c829e8>"
      ]
     },
     "execution_count": 41,
     "metadata": {},
     "output_type": "execute_result"
    }
   ],
   "source": [
    "class InputConfigParser:\n",
    "    \n",
    "    def __init__(self, input_config_file, input_config_mqtt, model_name):\n",
    "        self.model_name = model_name\n",
    "        self.model_variables = {'Feasible_ESS_Decisions': {'type': 'Set', 'indexing': 'None'}, 'Feasible_VAC_Decisions': {'type': 'Set', 'indexing': 'None'}, 'Value_Index': {'type': 'Set', 'indexing': 'None'}, 'Value': {'type': 'Param', 'indexing': 'index'}, 'P_PV_Forecast': {'type': 'Param', 'indexing': 'None'}, 'Initial_ESS_SoC': {'type': 'Param', 'indexing': 'index'}, 'Initial_VAC_SoC': {'type': 'Param', 'indexing': 'index'}, 'Number_of_Parked_Cars': {'type': 'Param', 'indexing': 'None'}, 'Unit_Consumption_Assumption': {'type': 'Param', 'indexing': 'None'}, 'Unit_Drop_Penalty': {'type': 'Param', 'indexing': 'None'}, 'ESS_Capacity': {'type': 'Param', 'indexing': 'None'}, 'VAC_Capacity': {'type': 'Param', 'indexing': 'None'}, 'Behavior_Model_Index': {'type': 'Set', 'indexing': 'None'}, 'Behavior_Model': {'type': 'Param', 'indexing': 'None'}, 'dT': {'type': 'Param', 'indexing': 'None'}, 'Decision': {'type': 'Var', 'indexing': 'index'}, 'P_ESS': {'type': 'Var', 'indexing': 'None'}, 'P_VAC': {'type': 'Var', 'indexing': 'None'}, 'P_PV': {'type': 'Var', 'indexing': 'index'}, 'P_GRID': {'type': 'Var', 'indexing': 'None'}}\n",
    "        self.input_config_file = input_config_file\n",
    "        self.input_config_mqtt = input_config_mqtt\n",
    "        self.mqtt_params = {}\n",
    "        self.generic_names = []\n",
    "        self.generic_file_names = []\n",
    "        \n",
    "        self.defined_prediction_names = []\n",
    "        self.defined_non_prediction_names = [\"P_PV\", \"P_PV_Forecast\"] #New\n",
    "        self.defined_external_names = [\"SoC_Value\"]\n",
    "        self.prediction_names = []\n",
    "        self.non_prediction_names = []\n",
    "        self.external_names = []\n",
    "        \n",
    "        self.optimization_params = self.extract_optimization_values()\n",
    "        \n",
    "        # Added\n",
    "        self.car_park = None\n",
    "        \n",
    "    def add_name_to_list(self, key):\n",
    "        if key in self.defined_prediction_names:\n",
    "            self.prediction_names.append(key)\n",
    "        elif key in self.defined_non_prediction_names:\n",
    "            self.non_prediction_names.append(key)\n",
    "        elif key in self.defined_external_names:\n",
    "            self.external_names.append(key)\n",
    "        else:\n",
    "            self.generic_names.append(key)\n",
    "        \n",
    "    def generate_car_classes(self, cars):\n",
    "        cars_list = []\n",
    "        for car_name, car_detail in cars.items():\n",
    "            battery_capacity = car_detail.get(\"Battery_Capacity_kWh\", None)\n",
    "            assert battery_capacity, f\"Incorrect input: Battery_Capacity_kWh missing for car: {car_name}\"\n",
    "            cars_list.append(Car(car_name, battery_capacity))\n",
    "        return cars_list\n",
    "\n",
    "    def generate_charger_classes(self, chargers):\n",
    "        chargers_list = []\n",
    "        for charger_name, charger_detail in chargers.items():\n",
    "            {'Max_Charging_Power_kW': 6, 'Hosted_Car': 'Car1', 'SoC': 0.5}\n",
    "            max_charging_power_kw = charger_detail.get(\"Max_Charging_Power_kW\", None)\n",
    "            hosted_car = charger_detail.get(\"Hosted_Car\", None)\n",
    "            soc = charger_detail.get(\"SoC\", None)\n",
    "            assert max_charging_power_kw, f\"Incorrect input: Max_Charging_Power_kW missing for charger: {charger_name}\"\n",
    "            chargers_list.append(ChargingStation(max_charging_power_kw, hosted_car, soc))\n",
    "        return chargers_list\n",
    "    \n",
    "    def extract_optimization_values(self):\n",
    "        data = {}\n",
    "        for input_config in [self.input_config_file, self.input_config_mqtt]:\n",
    "            for k, v in input_config.items():\n",
    "                if isinstance(v, dict):\n",
    "                    for k1, v1 in v.items():\n",
    "                        if k1 == Constants.meta:\n",
    "                            for k2, v2 in v1.items():\n",
    "                                try:\n",
    "                                    v2 = float(v2)\n",
    "                                except ValueError:\n",
    "                                    pass\n",
    "                                if isinstance(v2, float) and v2.is_integer():\n",
    "                                    v2 = int(v2)\n",
    "                                if k2 in self.model_variables.keys():\n",
    "                                    indexing = self.model_variables[k2][\"indexing\"]\n",
    "                                    if indexing == \"index\":\n",
    "                                        data[k2] = {int(0): v2}\n",
    "                                    elif indexing == \"None\":\n",
    "                                        data[k2] = {None: v2}\n",
    "                                else:\n",
    "                                    data[k2] = {None: v2}\n",
    "                        elif k1 == Constants.SoC_Value and isinstance(v1, int):\n",
    "                            indexing = self.model_variables[Constants.SoC_Value][\"indexing\"]\n",
    "                            if indexing == \"index\":\n",
    "                                data[Constants.SoC_Value] = {int(0): float(v1 / 100)}\n",
    "                            elif indexing == \"None\":\n",
    "                                data[Constants.SoC_Value] = {None: float(v1 / 100)}\n",
    "                        elif isinstance(v1, list):\n",
    "                            self.add_name_to_list(k1)\n",
    "                        elif k == \"generic\" and not isinstance(v1, dict):\n",
    "                            logger.debug(\"Generic single value\")\n",
    "                            try:\n",
    "                                v1 = float(v1)\n",
    "                            except ValueError:\n",
    "                                pass\n",
    "                            if isinstance(v1, float) and v1.is_integer():\n",
    "                                v1 = int(v1)\n",
    "                            data[k1] = {None: v1}\n",
    "                        elif k == \"PROFEV\":\n",
    "                            if isinstance(v1, dict):\n",
    "                                if k1 == Constants.CarPark:\n",
    "                                    chargers = v1.get(\"Charging_Station\", None)\n",
    "                                    cars = v1.get(\"Cars\", None)\n",
    "                                    assert chargers, \"Incorrect input: Charging_Station missing in CarPark\"\n",
    "                                    assert cars, \"Incorrect input: Cars missing in CarPark\"\n",
    "                                    chargers = dict(chargers)\n",
    "                                    cars = dict(cars)\n",
    "                                    chargers_list = self.generate_charger_classes(chargers)\n",
    "                                    cars_list = self.generate_car_classes(cars)\n",
    "                                    self.car_park = CarPark(chargers_list, cars_list)\n",
    "                                    \n",
    "                                    data[\"Number_of_Parked_Cars\"] = { None: self.car_park.number_of_cars }\n",
    "                                    data[\"VAC_Capacity\"] = { None: self.car_park.vac_capacity }\n",
    "                                    \n",
    "                                if k1 == Constants.Uncertainty:\n",
    "                                    print(v1)\n",
    "                                    pass\n",
    "                            else:\n",
    "                                try:\n",
    "                                    v1 = float(v1)\n",
    "                                except:\n",
    "                                    pass\n",
    "                                if isinstance(v1, float) and v1.is_integer():\n",
    "                                    v1 = int(v1)\n",
    "                                data[k1] = { None: v1 }\n",
    "                        \n",
    "        pprint.pprint(data, indent=4)\n",
    "        return data\n",
    "    \n",
    "InputConfigParser(input_config_file, input_config_mqtt, model_name)"
   ]
  },
  {
   "cell_type": "code",
   "execution_count": null,
   "metadata": {},
   "outputs": [],
   "source": []
  }
 ],
 "metadata": {
  "kernelspec": {
   "display_name": "Python 3",
   "language": "python",
   "name": "python3"
  },
  "language_info": {
   "codemirror_mode": {
    "name": "ipython",
    "version": 3
   },
   "file_extension": ".py",
   "mimetype": "text/x-python",
   "name": "python",
   "nbconvert_exporter": "python",
   "pygments_lexer": "ipython3",
   "version": "3.6.8"
  },
  "varInspector": {
   "cols": {
    "lenName": 16,
    "lenType": 16,
    "lenVar": 40
   },
   "kernels_config": {
    "python": {
     "delete_cmd_postfix": "",
     "delete_cmd_prefix": "del ",
     "library": "var_list.py",
     "varRefreshCmd": "print(var_dic_list())"
    },
    "r": {
     "delete_cmd_postfix": ") ",
     "delete_cmd_prefix": "rm(",
     "library": "var_list.r",
     "varRefreshCmd": "cat(var_dic_list()) "
    }
   },
   "types_to_exclude": [
    "module",
    "function",
    "builtin_function_or_method",
    "instance",
    "_Feature"
   ],
   "window_display": false
  }
 },
 "nbformat": 4,
 "nbformat_minor": 2
}
