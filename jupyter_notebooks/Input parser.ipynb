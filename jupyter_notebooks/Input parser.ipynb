{
 "cells": [
  {
   "cell_type": "code",
   "execution_count": 1,
   "metadata": {},
   "outputs": [],
   "source": [
    "import json\n",
    "import os\n",
    "os.chdir(\"..\")"
   ]
  },
  {
   "cell_type": "code",
   "execution_count": 8,
   "metadata": {
    "code_folding": [
     0
    ]
   },
   "outputs": [],
   "source": [
    "# Inputs\n",
    "\n",
    "path = os.path.join(os.getcwd(), \"utils\", \"799988a6cbeb\", \"Input.registry.file\")\n",
    "with open(path, \"r\") as file:\n",
    "    input_config_file = json.loads(file.read())\n",
    "\n",
    "input_config_mqtt = {}\n",
    "model_name = \"CarParkModel\"\n",
    "\n",
    "defined_external_names = ['SoC_Value']\n",
    "defined_non_prediction_names =  ['P_PV']\n",
    "defined_prediction_names =  []\n",
    "external_names =  []\n",
    "\n",
    "prediction_names = []\n",
    "non_prediction_names = []\n",
    "external_names = []\n",
    "generic_names = []\n",
    "\n",
    "def add_name_to_list(key):\n",
    "    if key in defined_prediction_names:\n",
    "        prediction_names.append(key)\n",
    "    elif key in defined_non_prediction_names:\n",
    "        non_prediction_names.append(key)\n",
    "    elif key in defined_external_names:\n",
    "        external_names.append(key)\n",
    "    else:\n",
    "        generic_names.append(key)\n",
    "\n",
    "model_variables = {'Feasible_ESS_Decisions': {'type': 'Set', 'indexing': 'None'}, 'Feasible_VAC_Decisions': {'type': 'Set', 'indexing': 'None'}, 'Value_Index': {'type': 'Set', 'indexing': 'None'}, 'Value': {'type': 'Param', 'indexing': 'index'}, 'P_PV_Forecast': {'type': 'Param', 'indexing': 'None'}, 'Initial_ESS_SoC': {'type': 'Param', 'indexing': 'index'}, 'Initial_VAC_SoC': {'type': 'Param', 'indexing': 'index'}, 'Number_of_Parked_Cars': {'type': 'Param', 'indexing': 'None'}, 'Unit_Consumption_Assumption': {'type': 'Param', 'indexing': 'None'}, 'Unit_Drop_Penalty': {'type': 'Param', 'indexing': 'None'}, 'ESS_Capacity': {'type': 'Param', 'indexing': 'None'}, 'VAC_Capacity': {'type': 'Param', 'indexing': 'None'}, 'Behavior_Model_Index': {'type': 'Set', 'indexing': 'None'}, 'Behavior_Model': {'type': 'Param', 'indexing': 'None'}, 'dT': {'type': 'Param', 'indexing': 'None'}, 'Decision': {'type': 'Var', 'indexing': 'index'}, 'P_ESS': {'type': 'Var', 'indexing': 'None'}, 'P_VAC': {'type': 'Var', 'indexing': 'None'}, 'P_PV': {'type': 'Var', 'indexing': 'index'}, 'P_GRID': {'type': 'Var', 'indexing': 'None'}}\n",
    "\n",
    "class Constants:\n",
    "\n",
    "    ESS = \"ESS\"\n",
    "    SoC_Value = \"SoC_Value\"\n",
    "    meta = \"meta\"\n",
    "    P_PV = \"P_PV\"\n",
    "    P_Load = \"P_Load\"\n",
    "    Q_Load = \"Q_Load\"\n",
    "    mqtt = \"mqtt\"\n",
    "    CarPark = \"CarPark\""
   ]
  },
  {
   "cell_type": "markdown",
   "metadata": {},
   "source": [
    "## CarPark"
   ]
  },
  {
   "cell_type": "code",
   "execution_count": 5,
   "metadata": {},
   "outputs": [],
   "source": [
    "class CarPark:\n",
    "\n",
    "    def __init__(self, charger_list, car_list):\n",
    "\n",
    "        self.cars = {}\n",
    "        self.chargers = {charger_index: charger for charger_index, charger in enumerate(charger_list)}\n",
    "        self.vac_capacity = 0\n",
    "\n",
    "        for car_index, car in enumerate(car_list):\n",
    "            self.cars[car_index] = car\n",
    "            self.vac_capacity += car.batteryCapacity\n",
    "\n",
    "        self.number_of_cars = len(self.cars)\n",
    "\n",
    "    def max_charge_power_calculator(self, charging_period):\n",
    "        \"\"\"\n",
    "        Returns a dictionary \"connections\"\n",
    "            keys: charger labels\n",
    "            values: max charging power input to the connected car\n",
    "        \"\"\"\n",
    "\n",
    "        connections = {}\n",
    "        for key, charger in self.chargers.items():\n",
    "            if charger.hosted_car:\n",
    "                car = charger.hosted_car\n",
    "                battery_depth_of_discharge = (1 - charger.soc) * car.batteryCapacity  # max_charging_power_kw-sec\n",
    "\n",
    "                charger_limit = charger.kW\n",
    "                car_limit = battery_depth_of_discharge / charging_period\n",
    "\n",
    "                connections[key] = min(charger_limit, car_limit)\n",
    "\n",
    "        return connections\n"
   ]
  },
  {
   "cell_type": "markdown",
   "metadata": {},
   "source": [
    "## Car"
   ]
  },
  {
   "cell_type": "code",
   "execution_count": 6,
   "metadata": {},
   "outputs": [],
   "source": [
    "class Car:\n",
    "\n",
    "    def __init__(self, battery_capacity):\n",
    "        self.batteryCapacity = battery_capacity * 3600\n",
    "\n",
    "    def charge(self, soc, charge_period, charge_power):\n",
    "        return soc + charge_power * charge_period / self.batteryCapacity\n"
   ]
  },
  {
   "cell_type": "markdown",
   "metadata": {},
   "source": [
    "## ChargingStation"
   ]
  },
  {
   "cell_type": "code",
   "execution_count": 7,
   "metadata": {},
   "outputs": [],
   "source": [
    "class ChargingStation:\n",
    "\n",
    "    def __init__(self, max_charging_power_kw, hosted_car=None, soc=None):\n",
    "        self.max_charging_power_kw = max_charging_power_kw\n",
    "\n",
    "        if hosted_car:\n",
    "            self.hosted_car = hosted_car\n",
    "            self.plugged = True\n",
    "            self.soc = soc\n",
    "        else:\n",
    "            self.plugged = False\n",
    "\n",
    "    def plug(self, car):\n",
    "        self.hosted_car = car\n",
    "        self.plugged = True\n",
    "\n",
    "    def unplug(self):\n",
    "        self.hosted_car = None\n",
    "        self.plugged = False\n",
    "\n",
    "    def charge(self, charge_period, charge_power):\n",
    "\n",
    "        if self.plugged == 1:\n",
    "            self.soc = self.hosted_car.charge(self.soc, charge_period, charge_power)\n",
    "        else:\n",
    "            print(\"Charge decision cannot be implemented\")\n"
   ]
  },
  {
   "cell_type": "markdown",
   "metadata": {},
   "source": [
    "### Helper functions"
   ]
  },
  {
   "cell_type": "code",
   "execution_count": 9,
   "metadata": {},
   "outputs": [],
   "source": []
  },
  {
   "cell_type": "markdown",
   "metadata": {},
   "source": [
    "## Input parser"
   ]
  },
  {
   "cell_type": "code",
   "execution_count": 13,
   "metadata": {},
   "outputs": [],
   "source": [
    "class InputConfigParser:\n",
    "    \n",
    "    def __init__(self, input_config_file, input_config_mqtt, model_name):\n",
    "        self.model_name = model_name\n",
    "        self.model_variables = {'Feasible_ESS_Decisions': {'type': 'Set', 'indexing': 'None'}, 'Feasible_VAC_Decisions': {'type': 'Set', 'indexing': 'None'}, 'Value_Index': {'type': 'Set', 'indexing': 'None'}, 'Value': {'type': 'Param', 'indexing': 'index'}, 'P_PV_Forecast': {'type': 'Param', 'indexing': 'None'}, 'Initial_ESS_SoC': {'type': 'Param', 'indexing': 'index'}, 'Initial_VAC_SoC': {'type': 'Param', 'indexing': 'index'}, 'Number_of_Parked_Cars': {'type': 'Param', 'indexing': 'None'}, 'Unit_Consumption_Assumption': {'type': 'Param', 'indexing': 'None'}, 'Unit_Drop_Penalty': {'type': 'Param', 'indexing': 'None'}, 'ESS_Capacity': {'type': 'Param', 'indexing': 'None'}, 'VAC_Capacity': {'type': 'Param', 'indexing': 'None'}, 'Behavior_Model_Index': {'type': 'Set', 'indexing': 'None'}, 'Behavior_Model': {'type': 'Param', 'indexing': 'None'}, 'dT': {'type': 'Param', 'indexing': 'None'}, 'Decision': {'type': 'Var', 'indexing': 'index'}, 'P_ESS': {'type': 'Var', 'indexing': 'None'}, 'P_VAC': {'type': 'Var', 'indexing': 'None'}, 'P_PV': {'type': 'Var', 'indexing': 'index'}, 'P_GRID': {'type': 'Var', 'indexing': 'None'}}\n",
    "        self.input_config_file = input_config_file\n",
    "        self.input_config_mqtt = input_config_mqtt\n",
    "        self.mqtt_params = {}\n",
    "        self.generic_names = []\n",
    "        self.generic_file_names = []\n",
    "        \n",
    "        self.defined_prediction_names = []\n",
    "        self.defined_non_prediction_names = [\"P_PV\"]\n",
    "        self.defined_external_names = [\"SoC_Value\"]\n",
    "        self.prediction_names = []\n",
    "        self.non_prediction_names = []\n",
    "        self.external_names = []\n",
    "        \n",
    "        self.optimization_params = self.extract_optimization_values()\n",
    "        \n",
    "    def get_car_details(self, cars):\n",
    "        pass\n",
    "\n",
    "    def get_charger_details(self, chargers):\n",
    "        pass\n",
    "    \n",
    "    def extract_optimization_values(self):\n",
    "        data = {}\n",
    "        for input_config in [self.input_config_file, self.input_config_mqtt]:\n",
    "            for k, v in input_config.items():\n",
    "                if isinstance(v, dict):\n",
    "                    for k1, v1 in v.items():\n",
    "                        if k1 == Constants.meta:\n",
    "                            for k2, v2 in v1.items():\n",
    "                                try:\n",
    "                                    v2 = float(v2)\n",
    "                                except ValueError:\n",
    "                                    pass\n",
    "                                if isinstance(v2, float) and v2.is_integer():\n",
    "                                    v2 = int(v2)\n",
    "                                if k2 in self.model_variables.keys():\n",
    "                                    indexing = self.model_variables[k2][\"indexing\"]\n",
    "                                    if indexing == \"index\":\n",
    "                                        data[k2] = {int(0): v2}\n",
    "                                    elif indexing == \"None\":\n",
    "                                        data[k2] = {None: v2}\n",
    "                                else:\n",
    "                                    data[k2] = {None: v2}\n",
    "                        elif k1 == Constants.SoC_Value and isinstance(v1, int):\n",
    "                            indexing = self.model_variables[Constants.SoC_Value][\"indexing\"]\n",
    "                            if indexing == \"index\":\n",
    "                                data[Constants.SoC_Value] = {int(0): float(v1 / 100)}\n",
    "                            elif indexing == \"None\":\n",
    "                                data[Constants.SoC_Value] = {None: float(v1 / 100)}\n",
    "                        elif isinstance(v1, list):\n",
    "                            self.add_name_to_list(k1)\n",
    "                        elif k == \"generic\" and not isinstance(v1, dict):\n",
    "                            logger.debug(\"Generic single value\")\n",
    "                            try:\n",
    "                                v1 = float(v1)\n",
    "                            except ValueError:\n",
    "                                pass\n",
    "                            if isinstance(v1, float) and v1.is_integer():\n",
    "                                v1 = int(v1)\n",
    "                            data[k1] = {None: v1}\n",
    "        return data\n",
    "    "
   ]
  },
  {
   "cell_type": "code",
   "execution_count": null,
   "metadata": {},
   "outputs": [],
   "source": []
  }
 ],
 "metadata": {
  "kernelspec": {
   "display_name": "Python 3",
   "language": "python",
   "name": "python3"
  },
  "language_info": {
   "codemirror_mode": {
    "name": "ipython",
    "version": 3
   },
   "file_extension": ".py",
   "mimetype": "text/x-python",
   "name": "python",
   "nbconvert_exporter": "python",
   "pygments_lexer": "ipython3",
   "version": "3.6.8"
  },
  "varInspector": {
   "cols": {
    "lenName": 16,
    "lenType": 16,
    "lenVar": 40
   },
   "kernels_config": {
    "python": {
     "delete_cmd_postfix": "",
     "delete_cmd_prefix": "del ",
     "library": "var_list.py",
     "varRefreshCmd": "print(var_dic_list())"
    },
    "r": {
     "delete_cmd_postfix": ") ",
     "delete_cmd_prefix": "rm(",
     "library": "var_list.r",
     "varRefreshCmd": "cat(var_dic_list()) "
    }
   },
   "types_to_exclude": [
    "module",
    "function",
    "builtin_function_or_method",
    "instance",
    "_Feature"
   ],
   "window_display": false
  }
 },
 "nbformat": 4,
 "nbformat_minor": 2
}
